{
 "cells": [
  {
   "cell_type": "code",
   "execution_count": 1,
   "id": "31033f0f",
   "metadata": {},
   "outputs": [],
   "source": [
    "import pandas as pd\n",
    "import numpy as np\n",
    "from sklearn.preprocessing import LabelEncoder\n",
    "from sklearn.linear_model import LogisticRegression\n",
    "from sklearn.tree import DecisionTreeClassifier\n",
    "from sklearn.ensemble import RandomForestClassifier, AdaBoostClassifier\n",
    "from sklearn.feature_extraction.text import CountVectorizer, TfidfVectorizer\n",
    "from sklearn.model_selection import train_test_split\n",
    "from sklearn.metrics import confusion_matrix, accuracy_score, classification_report\n",
    "from sklearn.svm import SVC\n",
    "from sklearn.neighbors import KNeighborsClassifier\n",
    "from sklearn.naive_bayes import GaussianNB\n",
    "from sklearn.gaussian_process import GaussianProcessClassifier\n",
    "from imblearn.over_sampling import RandomOverSampler\n",
    "\n",
    "import seaborn as sns\n"
   ]
  },
  {
   "cell_type": "code",
   "execution_count": 2,
   "id": "932636b2",
   "metadata": {},
   "outputs": [],
   "source": [
    "df = pd.read_csv('Articles Dataset.csv')"
   ]
  },
  {
   "cell_type": "code",
   "execution_count": 6,
   "id": "577db313",
   "metadata": {},
   "outputs": [
    {
     "data": {
      "text/html": [
       "<div>\n",
       "<style scoped>\n",
       "    .dataframe tbody tr th:only-of-type {\n",
       "        vertical-align: middle;\n",
       "    }\n",
       "\n",
       "    .dataframe tbody tr th {\n",
       "        vertical-align: top;\n",
       "    }\n",
       "\n",
       "    .dataframe thead th {\n",
       "        text-align: right;\n",
       "    }\n",
       "</style>\n",
       "<table border=\"1\" class=\"dataframe\">\n",
       "  <thead>\n",
       "    <tr style=\"text-align: right;\">\n",
       "      <th></th>\n",
       "      <th>Unnamed: 0</th>\n",
       "      <th>article</th>\n",
       "      <th>link</th>\n",
       "      <th>title</th>\n",
       "      <th>genre</th>\n",
       "    </tr>\n",
       "  </thead>\n",
       "  <tbody>\n",
       "    <tr>\n",
       "      <th>0</th>\n",
       "      <td>0</td>\n",
       "      <td>ڪراچي(ويب ڊيسڪ)قومي ڪرڪيٽ ٽيم جو اڳوڻو ناليوا...</td>\n",
       "      <td>https://awamiawaz.pk/752736/</td>\n",
       "      <td>\\n\\t\\t\\t\\tشاهد آفريدي ڪي پي ايل ۾ جوهر ڏيکارڻ ...</td>\n",
       "      <td>sports</td>\n",
       "    </tr>\n",
       "    <tr>\n",
       "      <th>1</th>\n",
       "      <td>1</td>\n",
       "      <td>ممبئي(ويب ڊيسڪ)انگلينڊ پاڪستان جا سڀ ٿورا وسا...</td>\n",
       "      <td>https://awamiawaz.pk/752734/</td>\n",
       "      <td>\\n\\t\\t\\t\\tانگلينڊ پاڪستان جا سڀ ٿورا وساري ڇڏي...</td>\n",
       "      <td>sports</td>\n",
       "    </tr>\n",
       "    <tr>\n",
       "      <th>2</th>\n",
       "      <td>2</td>\n",
       "      <td>.ٽوڪيو (ويب ڊيسڪ)ٽوڪيو اولمپڪس ۾ وڌيڪ ٽن راند...</td>\n",
       "      <td>https://awamiawaz.pk/752357/</td>\n",
       "      <td>\\n\\t\\t\\t\\tٽوڪيو اولمپڪس مان پاڪستان جي وڌيڪ ٽن...</td>\n",
       "      <td>sports</td>\n",
       "    </tr>\n",
       "    <tr>\n",
       "      <th>3</th>\n",
       "      <td>3</td>\n",
       "      <td>اسلام آباد(ويب ڊيسڪ) سڌُ سماءَ واري وفاقي وزي...</td>\n",
       "      <td>https://awamiawaz.pk/752332/</td>\n",
       "      <td>\\n\\t\\t\\t\\tڀارت راند کي سياست ۾ آڻي پنهنجو خراب...</td>\n",
       "      <td>sports</td>\n",
       "    </tr>\n",
       "    <tr>\n",
       "      <th>4</th>\n",
       "      <td>4</td>\n",
       "      <td>\\nڪراچي(ويب ڊيسڪ) ڪشمير پريميئر ليگ (ڪي پي اي...</td>\n",
       "      <td>https://awamiawaz.pk/752284/</td>\n",
       "      <td>\\n\\t\\t\\t\\tڪشمير پريميئر ليگ جي شيڊول جو اعلان ...</td>\n",
       "      <td>sports</td>\n",
       "    </tr>\n",
       "  </tbody>\n",
       "</table>\n",
       "</div>"
      ],
      "text/plain": [
       "   Unnamed: 0                                            article  \\\n",
       "0           0   ڪراچي(ويب ڊيسڪ)قومي ڪرڪيٽ ٽيم جو اڳوڻو ناليوا...   \n",
       "1           1   ممبئي(ويب ڊيسڪ)انگلينڊ پاڪستان جا سڀ ٿورا وسا...   \n",
       "2           2   .ٽوڪيو (ويب ڊيسڪ)ٽوڪيو اولمپڪس ۾ وڌيڪ ٽن راند...   \n",
       "3           3   اسلام آباد(ويب ڊيسڪ) سڌُ سماءَ واري وفاقي وزي...   \n",
       "4           4   \\nڪراچي(ويب ڊيسڪ) ڪشمير پريميئر ليگ (ڪي پي اي...   \n",
       "\n",
       "                           link  \\\n",
       "0  https://awamiawaz.pk/752736/   \n",
       "1  https://awamiawaz.pk/752734/   \n",
       "2  https://awamiawaz.pk/752357/   \n",
       "3  https://awamiawaz.pk/752332/   \n",
       "4  https://awamiawaz.pk/752284/   \n",
       "\n",
       "                                               title   genre  \n",
       "0  \\n\\t\\t\\t\\tشاهد آفريدي ڪي پي ايل ۾ جوهر ڏيکارڻ ...  sports  \n",
       "1  \\n\\t\\t\\t\\tانگلينڊ پاڪستان جا سڀ ٿورا وساري ڇڏي...  sports  \n",
       "2  \\n\\t\\t\\t\\tٽوڪيو اولمپڪس مان پاڪستان جي وڌيڪ ٽن...  sports  \n",
       "3  \\n\\t\\t\\t\\tڀارت راند کي سياست ۾ آڻي پنهنجو خراب...  sports  \n",
       "4  \\n\\t\\t\\t\\tڪشمير پريميئر ليگ جي شيڊول جو اعلان ...  sports  "
      ]
     },
     "execution_count": 6,
     "metadata": {},
     "output_type": "execute_result"
    }
   ],
   "source": [
    "df.head()"
   ]
  },
  {
   "cell_type": "code",
   "execution_count": 7,
   "id": "76e2209c",
   "metadata": {},
   "outputs": [],
   "source": [
    "# df['title']\n",
    "title=[]\n",
    "for i in range(0,3366):\n",
    "    review = df['title'][i]\n",
    "    review=review.split()\n",
    "    review=' '.join(review)\n",
    "    title.append(review)"
   ]
  },
  {
   "cell_type": "code",
   "execution_count": 8,
   "id": "dfcef0d0",
   "metadata": {},
   "outputs": [
    {
     "data": {
      "text/plain": [
       "array(['sports', 'entertainment', 'technology'], dtype=object)"
      ]
     },
     "execution_count": 8,
     "metadata": {},
     "output_type": "execute_result"
    }
   ],
   "source": [
    "df['genre'].unique()"
   ]
  },
  {
   "cell_type": "code",
   "execution_count": 9,
   "id": "712ec3b9",
   "metadata": {},
   "outputs": [
    {
     "data": {
      "text/plain": [
       "sports           1457\n",
       "entertainment    1214\n",
       "technology        695\n",
       "Name: genre, dtype: int64"
      ]
     },
     "execution_count": 9,
     "metadata": {},
     "output_type": "execute_result"
    }
   ],
   "source": [
    "df['genre'].value_counts()"
   ]
  },
  {
   "cell_type": "code",
   "execution_count": 10,
   "id": "93828de4",
   "metadata": {},
   "outputs": [
    {
     "data": {
      "text/plain": [
       "'ويسٽ انڊيز خلاف سيريز: بابر اعظم تبديلين جو اشارو ڏئي ڇڏيو'"
      ]
     },
     "execution_count": 10,
     "metadata": {},
     "output_type": "execute_result"
    }
   ],
   "source": [
    "title[9]"
   ]
  },
  {
   "cell_type": "code",
   "execution_count": 11,
   "id": "009792bb",
   "metadata": {},
   "outputs": [],
   "source": [
    "x = title\n",
    "y = df['genre']"
   ]
  },
  {
   "cell_type": "code",
   "execution_count": 12,
   "id": "1761bf30",
   "metadata": {},
   "outputs": [],
   "source": [
    "y = LabelEncoder().fit_transform(y)"
   ]
  },
  {
   "cell_type": "code",
   "execution_count": 13,
   "id": "af01f903",
   "metadata": {},
   "outputs": [
    {
     "data": {
      "text/plain": [
       "array([1, 1, 1, ..., 2, 2, 2])"
      ]
     },
     "execution_count": 13,
     "metadata": {},
     "output_type": "execute_result"
    }
   ],
   "source": [
    "y"
   ]
  },
  {
   "cell_type": "code",
   "execution_count": 14,
   "id": "779dde7e",
   "metadata": {},
   "outputs": [
    {
     "data": {
      "text/plain": [
       "'انگلينڊ پاڪستان جا سڀ ٿورا وساري ڇڏيا'"
      ]
     },
     "execution_count": 14,
     "metadata": {},
     "output_type": "execute_result"
    }
   ],
   "source": [
    "x[1]"
   ]
  },
  {
   "cell_type": "code",
   "execution_count": 15,
   "id": "dba8e003",
   "metadata": {},
   "outputs": [],
   "source": [
    "cv = CountVectorizer()\n",
    "x_cv = cv.fit_transform(x).toarray()"
   ]
  },
  {
   "cell_type": "code",
   "execution_count": 16,
   "id": "cdd8806a",
   "metadata": {},
   "outputs": [
    {
     "data": {
      "text/plain": [
       "(3366, 5020)"
      ]
     },
     "execution_count": 16,
     "metadata": {},
     "output_type": "execute_result"
    }
   ],
   "source": [
    "x_cv.shape"
   ]
  },
  {
   "cell_type": "code",
   "execution_count": 17,
   "id": "a7a5cb60",
   "metadata": {},
   "outputs": [],
   "source": [
    "from keras.models import Sequential\n",
    "from keras import layers\n",
    "# from keras.optimizers import RMSprop,Adam\n",
    "from tensorflow.keras.optimizers import RMSprop\n",
    "from keras.preprocessing.text import Tokenizer\n",
    "from keras.preprocessing.sequence import pad_sequences\n",
    "from keras import regularizers\n",
    "from keras import backend as K\n",
    "from keras.callbacks import ModelCheckpoint"
   ]
  },
  {
   "cell_type": "code",
   "execution_count": 18,
   "id": "06349a35",
   "metadata": {},
   "outputs": [
    {
     "name": "stdout",
     "output_type": "stream",
     "text": [
      "Found 6947 unique tokens.\n"
     ]
    }
   ],
   "source": [
    "from keras.preprocessing.text import Tokenizer\n",
    "from keras.layers import Dense, Embedding, LSTM, SpatialDropout1D\n",
    "\n",
    "\n",
    "\n",
    "# The maximum number of words to be used. (most frequent)\n",
    "MAX_NB_WORDS = 50000\n",
    "# Max number of words in each complaint.\n",
    "MAX_SEQUENCE_LENGTH = 250\n",
    "# This is fixed.\n",
    "EMBEDDING_DIM = 100\n",
    "\n",
    "tokenizer = Tokenizer(num_words=MAX_NB_WORDS, filters='!\"#$%&()*+,-./:;<=>?@[\\]^_`{|}~', lower=True)\n",
    "tokenizer.fit_on_texts(df['title'].values)\n",
    "word_index = tokenizer.word_index\n",
    "print('Found %s unique tokens.' % len(word_index))"
   ]
  },
  {
   "cell_type": "code",
   "execution_count": 19,
   "id": "bdbd102e",
   "metadata": {},
   "outputs": [
    {
     "name": "stdout",
     "output_type": "stream",
     "text": [
      "Shape of data tensor: (3366, 250)\n"
     ]
    }
   ],
   "source": [
    "from keras.preprocessing.sequence import pad_sequences\n",
    "\n",
    "X = tokenizer.texts_to_sequences(df['title'].values)\n",
    "X = pad_sequences(X, maxlen=MAX_SEQUENCE_LENGTH)\n",
    "print('Shape of data tensor:', X.shape)"
   ]
  },
  {
   "cell_type": "code",
   "execution_count": 20,
   "id": "095f87e7",
   "metadata": {},
   "outputs": [
    {
     "name": "stdout",
     "output_type": "stream",
     "text": [
      "Shape of label tensor: (3366, 3)\n"
     ]
    }
   ],
   "source": [
    "Y = pd.get_dummies(df['genre']).values\n",
    "print('Shape of label tensor:', Y.shape)"
   ]
  },
  {
   "cell_type": "code",
   "execution_count": 21,
   "id": "a4e1b838",
   "metadata": {},
   "outputs": [
    {
     "name": "stdout",
     "output_type": "stream",
     "text": [
      "(3029, 250) (3029, 3)\n",
      "(337, 250) (337, 3)\n"
     ]
    }
   ],
   "source": [
    "X_train, X_test, Y_train, Y_test = train_test_split(X,Y, test_size = 0.10, random_state = 42)\n",
    "print(X_train.shape,Y_train.shape)\n",
    "print(X_test.shape,Y_test.shape)"
   ]
  },
  {
   "cell_type": "code",
   "execution_count": 22,
   "id": "a91ee506",
   "metadata": {},
   "outputs": [
    {
     "name": "stdout",
     "output_type": "stream",
     "text": [
      "WARNING:tensorflow:Layer lstm will not use cuDNN kernels since it doesn't meet the criteria. It will use a generic GPU kernel as fallback when running on GPU.\n",
      "Model: \"sequential\"\n",
      "_________________________________________________________________\n",
      " Layer (type)                Output Shape              Param #   \n",
      "=================================================================\n",
      " embedding (Embedding)       (None, 250, 100)          5000000   \n",
      "                                                                 \n",
      " spatial_dropout1d (SpatialD  (None, 250, 100)         0         \n",
      " ropout1D)                                                       \n",
      "                                                                 \n",
      " lstm (LSTM)                 (None, 100)               80400     \n",
      "                                                                 \n",
      " dense (Dense)               (None, 3)                 303       \n",
      "                                                                 \n",
      "=================================================================\n",
      "Total params: 5,080,703\n",
      "Trainable params: 5,080,703\n",
      "Non-trainable params: 0\n",
      "_________________________________________________________________\n"
     ]
    }
   ],
   "source": [
    "model = Sequential()\n",
    "model.add(Embedding(MAX_NB_WORDS, EMBEDDING_DIM, input_length=X.shape[1]))\n",
    "model.add(SpatialDropout1D(0.2))\n",
    "model.add(LSTM(100, dropout=0.2, recurrent_dropout=0.2))\n",
    "model.add(Dense(3, activation='softmax'))\n",
    "model.compile(loss='categorical_crossentropy', optimizer='adam', metrics=['accuracy'])\n",
    "model.summary()"
   ]
  },
  {
   "cell_type": "code",
   "execution_count": 23,
   "id": "64f70a3c",
   "metadata": {},
   "outputs": [
    {
     "name": "stdout",
     "output_type": "stream",
     "text": [
      "Epoch 1/5\n",
      "171/171 [==============================] - 431s 3s/step - loss: 0.7486 - accuracy: 0.6533 - val_loss: 0.2621 - val_accuracy: 0.9010\n",
      "Epoch 2/5\n",
      "171/171 [==============================] - 395s 2s/step - loss: 0.1425 - accuracy: 0.9593 - val_loss: 0.1828 - val_accuracy: 0.9274\n",
      "Epoch 3/5\n",
      "171/171 [==============================] - 334s 2s/step - loss: 0.0261 - accuracy: 0.9927 - val_loss: 0.1960 - val_accuracy: 0.9274\n",
      "Epoch 4/5\n",
      "171/171 [==============================] - 359s 2s/step - loss: 0.0137 - accuracy: 0.9978 - val_loss: 0.2610 - val_accuracy: 0.9142\n",
      "Epoch 5/5\n",
      "171/171 [==============================] - 341s 2s/step - loss: 0.0035 - accuracy: 0.9996 - val_loss: 0.2287 - val_accuracy: 0.9274\n"
     ]
    }
   ],
   "source": [
    "from keras.callbacks import EarlyStopping\n",
    "epochs = 5\n",
    "batch_size = 16\n",
    "history = model.fit(X_train, Y_train, epochs=epochs, batch_size=batch_size,validation_split=0.1,callbacks=[EarlyStopping(monitor='val_loss', patience=3, min_delta=0.0001)])"
   ]
  },
  {
   "cell_type": "code",
   "execution_count": 24,
   "id": "59238be9",
   "metadata": {},
   "outputs": [
    {
     "name": "stdout",
     "output_type": "stream",
     "text": [
      "11/11 [==============================] - 2s 156ms/step - loss: 0.1803 - accuracy: 0.9407\n",
      "Test set\n",
      "  Loss: 0.180\n",
      "  Accuracy: 0.941\n"
     ]
    }
   ],
   "source": [
    "accr = model.evaluate(X_test,Y_test)\n",
    "print('Test set\\n  Loss: {:0.3f}\\n  Accuracy: {:0.3f}'.format(accr[0],accr[1]))"
   ]
  },
  {
   "cell_type": "code",
   "execution_count": 25,
   "id": "fcf1ec7c",
   "metadata": {},
   "outputs": [
    {
     "name": "stdout",
     "output_type": "stream",
     "text": [
      "[[1.8048439e-04 9.9980372e-01 1.5901745e-05]] entertainment\n"
     ]
    }
   ],
   "source": [
    "new_desc = ['ويسٽ انڊيز خلاف سيريز: بابر اعظم تبديلين جو اشارو ڏئي ڇڏيو']\n",
    "seq = tokenizer.texts_to_sequences(new_desc)\n",
    "padded = pad_sequences(seq, maxlen=MAX_SEQUENCE_LENGTH)\n",
    "pred = model.predict(padded)\n",
    "labels = ['sports', 'entertainment', 'technology']\n",
    "print(pred, labels[np.argmax(pred)])"
   ]
  },
  {
   "cell_type": "code",
   "execution_count": null,
   "id": "460a8215",
   "metadata": {},
   "outputs": [],
   "source": []
  },
  {
   "cell_type": "code",
   "execution_count": 60,
   "id": "3554549a",
   "metadata": {},
   "outputs": [],
   "source": [
    "x_train, x_test, y_train, y_test = train_test_split(x_cv,y,test_size=0.20, random_state=0)\n",
    "lr = LogisticRegression()\n",
    "lr"
   ]
  },
  {
   "cell_type": "code",
   "execution_count": 63,
   "id": "8f533446",
   "metadata": {},
   "outputs": [
    {
     "data": {
      "text/plain": [
       "0.9451038575667656"
      ]
     },
     "execution_count": 63,
     "metadata": {},
     "output_type": "execute_result"
    }
   ],
   "source": [
    "model = lr.fit(x_train,y_train)\n",
    "model.score(x_test,y_test)"
   ]
  },
  {
   "cell_type": "code",
   "execution_count": 66,
   "id": "95271cd6",
   "metadata": {},
   "outputs": [
    {
     "data": {
      "text/plain": [
       "array([[214,   9,   1],\n",
       "       [ 13, 286,   2],\n",
       "       [  9,   3, 137]], dtype=int64)"
      ]
     },
     "execution_count": 66,
     "metadata": {},
     "output_type": "execute_result"
    }
   ],
   "source": [
    "cm  = confusion_matrix(y_test,pred)\n",
    "cm"
   ]
  },
  {
   "cell_type": "code",
   "execution_count": 67,
   "id": "57f3ed42",
   "metadata": {},
   "outputs": [
    {
     "data": {
      "text/plain": [
       "<AxesSubplot:>"
      ]
     },
     "execution_count": 67,
     "metadata": {},
     "output_type": "execute_result"
    },
    {
     "data": {
      "image/png": "[encoded data removed]",
      "text/plain": [
       "<Figure size 432x288 with 2 Axes>"
      ]
     },
     "metadata": {
      "needs_background": "light"
     },
     "output_type": "display_data"
    }
   ],
   "source": [
    "sns.heatmap(cm, annot=True)"
   ]
  },
  {
   "cell_type": "code",
   "execution_count": 26,
   "id": "c83d7ace",
   "metadata": {},
   "outputs": [],
   "source": [
    "tree = DecisionTreeClassifier()\n",
    "model1 = tree.fit(x_train,y_train)"
   ]
  },
  {
   "cell_type": "code",
   "execution_count": 27,
   "id": "d7d09f3a",
   "metadata": {},
   "outputs": [
    {
     "data": {
      "text/plain": [
       "0.8664688427299704"
      ]
     },
     "execution_count": 27,
     "metadata": {},
     "output_type": "execute_result"
    }
   ],
   "source": [
    "model1.score(x_test,y_test)"
   ]
  },
  {
   "cell_type": "code",
   "execution_count": 28,
   "id": "11e4e6d6",
   "metadata": {},
   "outputs": [
    {
     "data": {
      "text/plain": [
       "array([[197,  16,  11],\n",
       "       [ 29, 268,   4],\n",
       "       [ 22,   8, 119]], dtype=int64)"
      ]
     },
     "execution_count": 28,
     "metadata": {},
     "output_type": "execute_result"
    }
   ],
   "source": [
    "tree_pred = tree.predict(x_test)\n",
    "cm = confusion_matrix(y_test,tree_pred)\n",
    "cm"
   ]
  },
  {
   "cell_type": "code",
   "execution_count": 29,
   "id": "6a7c07c5",
   "metadata": {},
   "outputs": [
    {
     "data": {
      "text/plain": [
       "<AxesSubplot:>"
      ]
     },
     "execution_count": 29,
     "metadata": {},
     "output_type": "execute_result"
    },
    {
     "data": {
      "image/png": "[encoded data removed]",
      "text/plain": [
       "<Figure size 432x288 with 2 Axes>"
      ]
     },
     "metadata": {
      "needs_background": "light"
     },
     "output_type": "display_data"
    }
   ],
   "source": [
    "sns.heatmap(cm, annot=True)"
   ]
  },
  {
   "cell_type": "code",
   "execution_count": 34,
   "id": "2d9b94fb",
   "metadata": {},
   "outputs": [],
   "source": [
    "rfc = RandomForestClassifier()\n",
    "model2 = rfc.fit(x_train,y_train)"
   ]
  },
  {
   "cell_type": "code",
   "execution_count": 35,
   "id": "21112fdb",
   "metadata": {},
   "outputs": [
    {
     "data": {
      "text/plain": [
       "0.9020771513353115"
      ]
     },
     "execution_count": 35,
     "metadata": {},
     "output_type": "execute_result"
    }
   ],
   "source": [
    "model2.score(x_test,y_test)"
   ]
  },
  {
   "cell_type": "code",
   "execution_count": 37,
   "id": "e6e27bdc",
   "metadata": {},
   "outputs": [
    {
     "data": {
      "text/plain": [
       "array([[213,   7,   4],\n",
       "       [ 26, 275,   0],\n",
       "       [ 23,   6, 120]], dtype=int64)"
      ]
     },
     "execution_count": 37,
     "metadata": {},
     "output_type": "execute_result"
    }
   ],
   "source": [
    "dtree_pred = rfc.predict(x_test)\n",
    "cm = confusion_matrix(y_test,dtree_pred)\n",
    "cm"
   ]
  },
  {
   "cell_type": "code",
   "execution_count": 38,
   "id": "47ed08c8",
   "metadata": {},
   "outputs": [
    {
     "data": {
      "text/plain": [
       "<AxesSubplot:>"
      ]
     },
     "execution_count": 38,
     "metadata": {},
     "output_type": "execute_result"
    },
    {
     "data": {
      "image/png": "[encoded data removed]",
      "text/plain": [
       "<Figure size 432x288 with 2 Axes>"
      ]
     },
     "metadata": {
      "needs_background": "light"
     },
     "output_type": "display_data"
    }
   ],
   "source": [
    "sns.heatmap(cm, annot=True)"
   ]
  },
  {
   "cell_type": "code",
   "execution_count": null,
   "id": "06b8089c",
   "metadata": {},
   "outputs": [],
   "source": []
  },
  {
   "cell_type": "code",
   "execution_count": 39,
   "id": "9727cfe8",
   "metadata": {},
   "outputs": [],
   "source": [
    "def train_fit_myData(x,y,cv,model):\n",
    "    x_cv = cv.fit_transform(x).toarray()\n",
    "    print('features: ',x_cv.shape[1])\n",
    "    x_train,x_test,y_train,y_test = train_test_split(x_cv,y)\n",
    "    lr_model = model.fit(x_train,y_train)\n",
    "    acc = lr_model.score(x_test,y_test)*100\n",
    "    print('accourcy: ',acc,\"%\")\n",
    "#     feature_names = cv.get_feature_names()\n",
    "#     coef = lr_model.coef_.tolist()[0]\n",
    "#     coef_df = pd.DataFrame({'words':feature_names,'coefficient':coef})\n",
    "#     coef_df = coef_df.sort_values(['coefficient','words'],ascending=False)\n",
    "\n",
    "#     print('-Top 20 positive: ')\n",
    "#     print(coef_df.head(20))\n",
    "#     print('-Top 20 negative: ')\n",
    "#     print(coef_df.tail(20))"
   ]
  },
  {
   "cell_type": "code",
   "execution_count": 40,
   "id": "d7ba537c",
   "metadata": {},
   "outputs": [
    {
     "name": "stdout",
     "output_type": "stream",
     "text": [
      "features:  5020\n",
      "accourcy:  89.78622327790974 %\n"
     ]
    }
   ],
   "source": [
    "#  GaussianNB Modl\n",
    "train_fit_myData(x,y,CountVectorizer(),GaussianNB())"
   ]
  },
  {
   "cell_type": "code",
   "execution_count": 41,
   "id": "c08a2372",
   "metadata": {},
   "outputs": [
    {
     "name": "stdout",
     "output_type": "stream",
     "text": [
      "features:  5020\n",
      "accourcy:  76.84085510688836 %\n"
     ]
    }
   ],
   "source": [
    "# KNeighborsClassifier\n",
    "train_fit_myData(x,y,CountVectorizer(),KNeighborsClassifier())"
   ]
  },
  {
   "cell_type": "code",
   "execution_count": 42,
   "id": "8c82460e",
   "metadata": {},
   "outputs": [
    {
     "name": "stdout",
     "output_type": "stream",
     "text": [
      "features:  5020\n",
      "accourcy:  77.67220902612827 %\n"
     ]
    }
   ],
   "source": [
    "# GaussianProcessClassifier\n",
    "train_fit_myData(x,y,CountVectorizer(), GaussianProcessClassifier())"
   ]
  },
  {
   "cell_type": "code",
   "execution_count": 43,
   "id": "4d4a59db",
   "metadata": {},
   "outputs": [
    {
     "name": "stdout",
     "output_type": "stream",
     "text": [
      "features:  5020\n",
      "accourcy:  82.3040380047506 %\n"
     ]
    }
   ],
   "source": [
    "# AdaBoostClassifier\n",
    "train_fit_myData(x,y,CountVectorizer(),AdaBoostClassifier())"
   ]
  },
  {
   "cell_type": "code",
   "execution_count": 44,
   "id": "1ac10dcc",
   "metadata": {},
   "outputs": [
    {
     "name": "stdout",
     "output_type": "stream",
     "text": [
      "features:  5020\n",
      "accourcy:  91.68646080760095 %\n"
     ]
    }
   ],
   "source": [
    "# SVC\n",
    "train_fit_myData(x,y,CountVectorizer(),SVC())"
   ]
  },
  {
   "cell_type": "code",
   "execution_count": null,
   "id": "17fdf65e",
   "metadata": {},
   "outputs": [],
   "source": []
  },
  {
   "cell_type": "code",
   "execution_count": 46,
   "id": "64352129",
   "metadata": {},
   "outputs": [],
   "source": [
    "from imblearn.over_sampling import RandomOverSampler\n",
    "from sklearn.feature_extraction.text import TfidfVectorizer\n",
    "\n",
    "tf_idf = TfidfVectorizer()\n",
    "x_tf_idf = tf_idf.fit_transform(x)"
   ]
  },
  {
   "cell_type": "code",
   "execution_count": 48,
   "id": "098913e6",
   "metadata": {},
   "outputs": [],
   "source": [
    "ros = RandomOverSampler()\n",
    "x_train_res , y_train_res = ros.fit_resample(x_tf_idf,y)"
   ]
  },
  {
   "cell_type": "code",
   "execution_count": 49,
   "id": "9517a2b9",
   "metadata": {},
   "outputs": [
    {
     "name": "stdout",
     "output_type": "stream",
     "text": [
      "Counter({1: 1457, 0: 1214, 2: 695})\n",
      "Counter({1: 1457, 0: 1457, 2: 1457})\n"
     ]
    }
   ],
   "source": [
    "from collections import Counter\n",
    "print(Counter(y))\n",
    "print(Counter(y_train_res))"
   ]
  },
  {
   "cell_type": "code",
   "execution_count": 52,
   "id": "9bdc1947",
   "metadata": {},
   "outputs": [],
   "source": [
    "lr = LogisticRegression()\n",
    "model = lr.fit(x_train_res,y_train_res)"
   ]
  },
  {
   "cell_type": "code",
   "execution_count": 57,
   "id": "a1ef7d05",
   "metadata": {},
   "outputs": [],
   "source": [
    "pred1 = model.predict(x_test)"
   ]
  },
  {
   "cell_type": "code",
   "execution_count": 58,
   "id": "d34106f8",
   "metadata": {},
   "outputs": [
    {
     "data": {
      "text/plain": [
       "0.973293768545994"
      ]
     },
     "execution_count": 58,
     "metadata": {},
     "output_type": "execute_result"
    }
   ],
   "source": [
    "model.score(x_test,y_test)"
   ]
  },
  {
   "cell_type": "code",
   "execution_count": 59,
   "id": "1255d681",
   "metadata": {},
   "outputs": [
    {
     "data": {
      "text/plain": [
       "0.973293768545994"
      ]
     },
     "execution_count": 59,
     "metadata": {},
     "output_type": "execute_result"
    }
   ],
   "source": [
    "accuracy_score(y_test, pred1)"
   ]
  },
  {
   "cell_type": "code",
   "execution_count": null,
   "id": "3a98a02f",
   "metadata": {},
   "outputs": [],
   "source": []
  },
  {
   "cell_type": "code",
   "execution_count": null,
   "id": "c7478809",
   "metadata": {},
   "outputs": [],
   "source": []
  },
  {
   "cell_type": "code",
   "execution_count": 61,
   "id": "7e11f20d",
   "metadata": {},
   "outputs": [
    {
     "name": "stdout",
     "output_type": "stream",
     "text": [
      "features:  5020\n",
      "accourcy:  85.74821852731591 %\n"
     ]
    }
   ],
   "source": [
    "#  GaussianNB Modl\n",
    "train_fit_myData(x,y,TfidfVectorizer(),GaussianNB())"
   ]
  },
  {
   "cell_type": "code",
   "execution_count": 62,
   "id": "5803835d",
   "metadata": {},
   "outputs": [
    {
     "name": "stdout",
     "output_type": "stream",
     "text": [
      "features:  5020\n",
      "accourcy:  88.47980997624703 %\n"
     ]
    }
   ],
   "source": [
    "# KNeighborsClassifier\n",
    "train_fit_myData(x,y,TfidfVectorizer(),KNeighborsClassifier())"
   ]
  },
  {
   "cell_type": "code",
   "execution_count": 63,
   "id": "f69dde86",
   "metadata": {},
   "outputs": [
    {
     "name": "stdout",
     "output_type": "stream",
     "text": [
      "features:  5020\n",
      "accourcy:  85.62945368171022 %\n"
     ]
    }
   ],
   "source": [
    "# GaussianProcessClassifier\n",
    "train_fit_myData(x,y,TfidfVectorizer(), GaussianProcessClassifier())"
   ]
  },
  {
   "cell_type": "code",
   "execution_count": 64,
   "id": "deb8f7d3",
   "metadata": {},
   "outputs": [
    {
     "name": "stdout",
     "output_type": "stream",
     "text": [
      "features:  5020\n",
      "accourcy:  83.1353919239905 %\n"
     ]
    }
   ],
   "source": [
    "# AdaBoostClassifier\n",
    "train_fit_myData(x,y,TfidfVectorizer(),AdaBoostClassifier())"
   ]
  },
  {
   "cell_type": "code",
   "execution_count": 65,
   "id": "7ee226ec",
   "metadata": {},
   "outputs": [
    {
     "name": "stdout",
     "output_type": "stream",
     "text": [
      "features:  5020\n",
      "accourcy:  91.92399049881234 %\n"
     ]
    }
   ],
   "source": [
    "# SVC\n",
    "train_fit_myData(x,y,TfidfVectorizer(),SVC())"
   ]
  },
  {
   "cell_type": "code",
   "execution_count": null,
   "id": "ce2f6639",
   "metadata": {},
   "outputs": [],
   "source": []
  },
  {
   "cell_type": "code",
   "execution_count": 67,
   "id": "25fd6894",
   "metadata": {},
   "outputs": [
    {
     "name": "stdout",
     "output_type": "stream",
     "text": [
      "features:  5020\n",
      "accourcy:  88.36104513064133 %\n"
     ]
    }
   ],
   "source": [
    "# SVC\n",
    "train_fit_myData(x,y,TfidfVectorizer(),RandomForestClassifier())"
   ]
  },
  {
   "cell_type": "code",
   "execution_count": 68,
   "id": "0219d5c5",
   "metadata": {},
   "outputs": [
    {
     "name": "stdout",
     "output_type": "stream",
     "text": [
      "features:  5020\n",
      "accourcy:  84.91686460807601 %\n"
     ]
    }
   ],
   "source": [
    "# SVC\n",
    "train_fit_myData(x,y,TfidfVectorizer(), DecisionTreeClassifier())"
   ]
  },
  {
   "cell_type": "code",
   "execution_count": null,
   "id": "679dccde",
   "metadata": {},
   "outputs": [],
   "source": []
  }
 ],
 "metadata": {
  "kernelspec": {
   "display_name": "Python 3 (ipykernel)",
   "language": "python",
   "name": "python3"
  },
  "language_info": {
   "codemirror_mode": {
    "name": "ipython",
    "version": 3
   },
   "file_extension": ".py",
   "mimetype": "text/x-python",
   "name": "python",
   "nbconvert_exporter": "python",
   "pygments_lexer": "ipython3",
   "version": "3.9.7"
  }
 },
 "nbformat": 4,
 "nbformat_minor": 5
}
